{
 "cells": [
  {
   "cell_type": "code",
   "execution_count": 8,
   "id": "7e15952a",
   "metadata": {},
   "outputs": [
    {
     "name": "stderr",
     "output_type": "stream",
     "text": [
      "Matplotlib is building the font cache; this may take a moment.\n"
     ]
    }
   ],
   "source": [
    "import pandas as pd\n",
    "import math\n",
    "import numpy as np\n",
    "import matplotlib.pyplot as plt\n"
   ]
  },
  {
   "cell_type": "markdown",
   "id": "b70ca632",
   "metadata": {},
   "source": [
    "# Problem 2 a. "
   ]
  },
  {
   "cell_type": "code",
   "execution_count": 9,
   "id": "bdeb76f7",
   "metadata": {},
   "outputs": [],
   "source": [
    "# x vectors age, course, likeStats\n",
    "x = np.matrix([[20,1,0],\n",
    "           [18,1,1],\n",
    "           [15, 0,1], \n",
    "           [16,0,0],\n",
    "           [17,1,1],\n",
    "           [21,1,0],\n",
    "           [23,1,0],\n",
    "           [15,1,1],\n",
    "           [17,0,1],\n",
    "           [17,1,0]])\n",
    "\n",
    "# the binary label Y \n",
    "y = [0,0,1,1,0,0,1,0,1,0]"
   ]
  },
  {
   "cell_type": "code",
   "execution_count": 10,
   "id": "e2009fa2",
   "metadata": {},
   "outputs": [],
   "source": [
    "# the theta and theta0 parameters \n",
    "theta = np.matrix([0.05, -3, 2.5])\n",
    "theta0 = 0.3 "
   ]
  },
  {
   "cell_type": "code",
   "execution_count": 11,
   "id": "6382c1ae",
   "metadata": {},
   "outputs": [],
   "source": [
    "# A g(x) function  that takes the given parameters and the input x vectors, \n",
    "# and returns the value based on the formula g(x) = theta*x + theta0 \n",
    "\n",
    "def g(a, matrix, b):\n",
    "    value = []\n",
    "    for row in matrix:\n",
    "        row = row.getT()\n",
    "        result = np.dot(a,row) + b\n",
    "        result = round(float(result),3)\n",
    "        value.append(result)\n",
    "    return value"
   ]
  },
  {
   "cell_type": "code",
   "execution_count": 12,
   "id": "95ce143a",
   "metadata": {
    "tags": []
   },
   "outputs": [],
   "source": [
    "gx = g(theta, x, theta0)\n"
   ]
  },
  {
   "cell_type": "code",
   "execution_count": 13,
   "id": "296ccebe-7c74-4c08-926b-2b3e0ee148f2",
   "metadata": {},
   "outputs": [],
   "source": [
    "# This function computes the yhat based on the classifier value and threshold \n",
    "\n",
    "def yhat(l,c):\n",
    "    yhat = []\n",
    "    for value in l:     \n",
    "        if value <= c:\n",
    "            yhat.append(0)\n",
    "        else:\n",
    "            yhat.append(1)\n",
    "    return yhat"
   ]
  },
  {
   "cell_type": "code",
   "execution_count": 14,
   "id": "e4d000db-179f-414e-85f1-bafbd9e89a18",
   "metadata": {},
   "outputs": [],
   "source": [
    "# This function calculates the false positve and false negative \n",
    "\n",
    "def classify(v,l):\n",
    "    # value are the yhat, l is the list of true y\n",
    "    fp = 0 \n",
    "    fn = 0 \n",
    "    for i in range(len(v)):\n",
    "        if l[i] != v[i]:\n",
    "            if l[i] > 0:     \n",
    "                fn +=1 \n",
    "            else:\n",
    "                fp +=1\n",
    "    return fp, fn\n",
    "            "
   ]
  },
  {
   "cell_type": "code",
   "execution_count": 15,
   "id": "450de92f",
   "metadata": {},
   "outputs": [],
   "source": [
    "# l1 is the list of classifiers, l2 is the true ys \n",
    "# This function returns the threshold that has the minimal misclassification error \n",
    "def findmaxclassifier(l1,l2):\n",
    "    minv = int(round(min(l1))) # min choice \n",
    "    maxv = int(max(l1))# max choice \n",
    "    # check each potential threshold \n",
    "    best = 1000\n",
    "    threshold = 0\n",
    "    for thresh in range(minv, maxv+1):\n",
    "        # convert gx into values based on classifier threshhold\n",
    "        value = yhat(l1,thresh)\n",
    "        # calculate the False positive\n",
    "        fp,fn = classify(value, l2)  \n",
    "        # calculate the False negative\n",
    "        # calculate the misclassification error\n",
    "        error = (fp + fn)/len(l1)\n",
    "        if error < best:\n",
    "            best = error\n",
    "            threshold = thresh\n",
    "        elif error == best:\n",
    "            if thresh < threshold:\n",
    "                threshold = thresh\n",
    "    return threshold"
   ]
  },
  {
   "cell_type": "code",
   "execution_count": 17,
   "id": "118124d6",
   "metadata": {},
   "outputs": [
    {
     "name": "stdout",
     "output_type": "stream",
     "text": [
      "1\n"
     ]
    }
   ],
   "source": [
    "print(findmaxclassifier(gx,y)) # the threshold we choose to minimize the misclassification error is 1 "
   ]
  },
  {
   "cell_type": "markdown",
   "id": "dcd249d5",
   "metadata": {},
   "source": [
    "# Problem 2b. \n"
   ]
  },
  {
   "cell_type": "code",
   "execution_count": 18,
   "id": "faf81027",
   "metadata": {},
   "outputs": [],
   "source": [
    "def sigmoid(x):\n",
    "    result = []\n",
    "    for i in range(len(x)):\n",
    "        value = x[i]\n",
    "        fy = (1 + math.exp(-value))**(-1)\n",
    "        result.append(fy)\n",
    "    return result "
   ]
  },
  {
   "cell_type": "code",
   "execution_count": 19,
   "id": "7c08134a",
   "metadata": {},
   "outputs": [],
   "source": [
    "def f(x):\n",
    "    c = sigmoid(x)\n",
    "    return c"
   ]
  },
  {
   "cell_type": "code",
   "execution_count": 20,
   "id": "574a6776-f51b-4e43-867d-894e1bfea2a9",
   "metadata": {},
   "outputs": [
    {
     "name": "stdout",
     "output_type": "stream",
     "text": [
      "[0.1544652650835347, 0.6681877721681662, 0.9720774262159271, 0.7502601055951177, 0.6570104626734988, 0.16110894957658525, 0.1750862681640398, 0.6341355910108007, 0.9746672967731282, 0.13587289700909427]\n"
     ]
    }
   ],
   "source": [
    "# compute the fy value \n",
    "fx = f(gx)\n",
    "print(fx)"
   ]
  },
  {
   "cell_type": "code",
   "execution_count": 21,
   "id": "d29f7b47-7751-46da-9b70-fec21206328a",
   "metadata": {},
   "outputs": [],
   "source": [
    "# To minimize the misclassification error, we used the function that we used a similar function used in part a. \n",
    "\n",
    "def findmaxclassifierb(l1,l2):\n",
    "    # check each potential threshold \n",
    "    best = 1000\n",
    "    threshold = 0\n",
    "    for thresh in np.arange(0,1,0.1):\n",
    "        # convert gx into values based on classifier threshhold\n",
    "        value = yhat(l1,thresh)\n",
    "        # calculate the False positive\n",
    "        fp,fn = classify(value, l2)  \n",
    "        # calculate the False negative\n",
    "        # calculate the misclassification error\n",
    "        error = (fp + fn)/len(l1)\n",
    "        if error < best:\n",
    "            best = error\n",
    "            threshold = thresh\n",
    "        elif error == best:\n",
    "            if thresh < threshold:\n",
    "                threshold = thresh\n",
    "    return threshold"
   ]
  },
  {
   "cell_type": "code",
   "execution_count": 22,
   "id": "bb0a7a83-e5bb-4353-91f7-0e8e5e8b4e39",
   "metadata": {},
   "outputs": [
    {
     "name": "stdout",
     "output_type": "stream",
     "text": [
      "0.7000000000000001\n"
     ]
    }
   ],
   "source": [
    "thresholdb = findmaxclassifierb(fx,y)\n",
    "print(thresholdb) # This is the estimated threshold that minimize the misclassfication error"
   ]
  },
  {
   "cell_type": "code",
   "execution_count": 23,
   "id": "772d8d5b-d1bb-4ae5-b984-8dd92588fb60",
   "metadata": {},
   "outputs": [],
   "source": [
    "# To calcualte the confusion matrix, we need FP, FN, TP, TF. \n",
    "# We would use a similar function used in part a, but with slight change \n",
    "\n",
    "# This function calculates the false positve and false negative \n",
    "def classify(v,l):\n",
    "    # value are the yhat, l is the list of true y\n",
    "    fp = 0 # False postive \n",
    "    fn = 0 # False negative \n",
    "    tp = 0 # True positve \n",
    "    tn = 0 # True false \n",
    "    for i in range(len(v)):\n",
    "        # predict false \n",
    "        if l[i] != v[i]:\n",
    "            if l[i] > 0:     \n",
    "                fn +=1 \n",
    "            else:\n",
    "                fp +=1\n",
    "        # Predict right \n",
    "        elif l[i] == v[i]:\n",
    "            if l[i] > 0:\n",
    "                tp += 1\n",
    "            else:\n",
    "                tn += 1 \n",
    "    # make a matrix \n",
    "    confusion = [[fp, tp], [fn, tn]]\n",
    "    return confusion"
   ]
  },
  {
   "cell_type": "code",
   "execution_count": 24,
   "id": "89bce547-77ee-4d67-b776-3dc4c50a7479",
   "metadata": {},
   "outputs": [
    {
     "name": "stdout",
     "output_type": "stream",
     "text": [
      "TP:3, FP: 0 \n",
      "TN:6, FN: 1\n"
     ]
    }
   ],
   "source": [
    "yhatb = yhat(fx,thresholdb) \n",
    "confusion_mat = classify(yhatb,y)\n",
    "newline = \"\\n\"\n",
    "# The confusion matrix\n",
    "print(f\"TP:{confusion_mat[0][1]}, FP: {confusion_mat[0][0]} {newline}TN:{confusion_mat[1][1]}, FN: {confusion_mat[1][0]}\")"
   ]
  },
  {
   "cell_type": "code",
   "execution_count": 25,
   "id": "15f194e2-8440-497e-82bc-7674d50d7a2f",
   "metadata": {},
   "outputs": [
    {
     "name": "stdout",
     "output_type": "stream",
     "text": [
      "1.0\n"
     ]
    }
   ],
   "source": [
    "# precision \n",
    "precision = 3/3 \n",
    "print(precision)"
   ]
  },
  {
   "cell_type": "code",
   "execution_count": 26,
   "id": "f3b123f4-d0ce-41a9-a024-44ddf0d579d8",
   "metadata": {},
   "outputs": [
    {
     "name": "stdout",
     "output_type": "stream",
     "text": [
      "0.75\n"
     ]
    }
   ],
   "source": [
    "# Recall = True Positives / (True Positives + False Negatives)\n",
    "\n",
    "recall = 3/(3+1)\n",
    "print(recall)"
   ]
  },
  {
   "cell_type": "code",
   "execution_count": 27,
   "id": "93b26027-1722-43c2-bfbe-29ece71b67b6",
   "metadata": {},
   "outputs": [
    {
     "name": "stdout",
     "output_type": "stream",
     "text": [
      "0.8571428571428571\n"
     ]
    }
   ],
   "source": [
    "#  F score = precision X recall / precision + recall\n",
    "Fscore = 2*precision*recall/(precision + recall)\n",
    "print(Fscore)"
   ]
  },
  {
   "cell_type": "markdown",
   "id": "39c24cd6",
   "metadata": {},
   "source": [
    "# Problem 2c. "
   ]
  },
  {
   "cell_type": "code",
   "execution_count": 28,
   "id": "ff2842c7-9211-41b3-a774-9b84dd5e1da1",
   "metadata": {},
   "outputs": [],
   "source": [
    "def fptp(x,y,threhsold):\n",
    "    TPR = []\n",
    "    FPR = []\n",
    "    # compute TPR and FPR all possible threshold \n",
    "    for thresh in threshold:\n",
    "        value = yhat(x,thresh)\n",
    "        mat = classify(value,y)\n",
    "        tp = mat[0][1]\n",
    "        fp = mat[0][0]\n",
    "        pnum = sum(y)\n",
    "        nnum = len(y) - pnum\n",
    "        tpr = tp/pnum\n",
    "        fpr = fp/nnum\n",
    "        TPR.append(tpr)\n",
    "        FPR.append(fpr)\n",
    "    return TPR, FPR\n"
   ]
  },
  {
   "cell_type": "code",
   "execution_count": 29,
   "id": "e4a656ae-b2e4-47f6-b285-c749bdccbf99",
   "metadata": {},
   "outputs": [],
   "source": [
    "threshold = np.arange(0,1,0.01)\n",
    "TPR, FPR = fptp(fx,y,threshold)"
   ]
  },
  {
   "cell_type": "code",
   "execution_count": 30,
   "id": "d1caa0fc-5771-43a1-a0bd-e47c8fba7b05",
   "metadata": {},
   "outputs": [
    {
     "data": {
      "text/plain": [
       "Text(0.5, 1.0, 'ROC Curve for fx')"
      ]
     },
     "execution_count": 30,
     "metadata": {},
     "output_type": "execute_result"
    },
    {
     "data": {
      "image/png": "[encoded data removed]",
      "text/plain": [
       "<Figure size 432x288 with 1 Axes>"
      ]
     },
     "metadata": {
      "needs_background": "light"
     },
     "output_type": "display_data"
    }
   ],
   "source": [
    "plt.plot(FPR,\n",
    "         TPR,\n",
    "         color = \"skyblue\",\n",
    "        )\n",
    "plt.scatter(FPR, TPR)\n",
    "plt.xlabel(\"False Postive Rate\")\n",
    "plt.ylabel(\"True Postive Rate\")\n",
    "plt.title(\"ROC Curve for fx\")"
   ]
  },
  {
   "cell_type": "code",
   "execution_count": 31,
   "id": "1b480c08-7d92-423b-a604-8dffb26d05ac",
   "metadata": {},
   "outputs": [],
   "source": [
    "# This function approximates the area under a discrete function curve \n",
    "def area(x,y):\n",
    "    prev = y[0]\n",
    "    area = 0 \n",
    "    x = sorted(x)\n",
    "    y = sorted(y)\n",
    "    for i in range(1,len(y)):\n",
    "        #print(f\"i = {i}, area = {area}\")\n",
    "        if prev == y[i]:\n",
    "            area += abs(y[i])*abs(x[i]-x[i-1])\n",
    "        else:\n",
    "            area += abs(y[i]-prev)*abs(x[i]-x[i-1])\n",
    "        prev = y[i]\n",
    "    return area\n",
    "                "
   ]
  },
  {
   "cell_type": "code",
   "execution_count": 32,
   "id": "b5ad4800-b018-4ec0-bd91-1f792ced7933",
   "metadata": {},
   "outputs": [
    {
     "name": "stdout",
     "output_type": "stream",
     "text": [
      "The AUC is 0.875\n"
     ]
    }
   ],
   "source": [
    "auc = area(FPR, TPR)\n",
    "print(f\"The AUC is {auc}\")"
   ]
  },
  {
   "cell_type": "markdown",
   "id": "d014f9cd",
   "metadata": {},
   "source": [
    "# Problem 2d. \n",
    "Since when we use classifier as an ordered vector, and calculates the evaluation parameters such as FPR, and TPR based on its relative position (left or right) to the threshold, applying an monolithic function does not change each values position relative to the threshold, and thus the ROC curve will not change. "
   ]
  },
  {
   "cell_type": "markdown",
   "id": "b08bed5a",
   "metadata": {},
   "source": [
    "# Problem 4.3."
   ]
  },
  {
   "cell_type": "code",
   "execution_count": 71,
   "id": "8369e44c-146b-4b0e-8c90-e320c4fcc126",
   "metadata": {},
   "outputs": [],
   "source": [
    "\n",
    "data_4 = pd.read_csv(\"Titanic.csv\",index_col = False, dtype = \"object\")"
   ]
  },
  {
   "cell_type": "code",
   "execution_count": 72,
   "id": "0c7d63c6-738c-4a2e-af21-9f3202f1120d",
   "metadata": {},
   "outputs": [
    {
     "name": "stdout",
     "output_type": "stream",
     "text": [
      "  Survived Pclass     Sex   Age SibSp Parch     Fare Cabin Embarked\n",
      "0        0      3    male  22.0     1     0     7.25   NaN        S\n",
      "1        1      1  female  38.0     1     0  71.2833   C85        C\n",
      "2        1      3  female  26.0     0     0    7.925   NaN        S\n",
      "3        1      1  female  35.0     1     0     53.1  C123        S\n",
      "4        0      3    male  35.0     0     0     8.05   NaN        S\n"
     ]
    }
   ],
   "source": [
    "print(data_4.head())"
   ]
  },
  {
   "cell_type": "code",
   "execution_count": 73,
   "id": "529ccead-3f41-44f8-88b4-d12f40e82a2e",
   "metadata": {},
   "outputs": [
    {
     "name": "stdout",
     "output_type": "stream",
     "text": [
      "       Survived Pclass   Sex   Age SibSp Parch  Fare    Cabin Embarked\n",
      "count       891    891   891   714   891   891   891      204      889\n",
      "unique        2      3     2    88     7     7   248      147        3\n",
      "top           0      3  male  24.0     0     0  8.05  B96 B98        S\n",
      "freq        549    491   577    30   608   678    43        4      644\n"
     ]
    }
   ],
   "source": [
    "print(data_4.describe())"
   ]
  },
  {
   "cell_type": "markdown",
   "id": "36cdc2a6-5bec-469b-86ef-2a800f93cc3d",
   "metadata": {},
   "source": [
    "From the table above, we know that the Age, and Fare variables are numerical. To encode the feature of these variables, we would need to transform those to the different categories. "
   ]
  },
  {
   "cell_type": "code",
   "execution_count": 74,
   "id": "89a5c54f-4ea6-4938-8ce9-745ec09bb1a9",
   "metadata": {},
   "outputs": [
    {
     "name": "stdout",
     "output_type": "stream",
     "text": [
      "count    714.000000\n",
      "mean      29.699118\n",
      "std       14.526497\n",
      "min        0.420000\n",
      "25%       20.125000\n",
      "50%       28.000000\n",
      "75%       38.000000\n",
      "max       80.000000\n",
      "Name: Age, dtype: float64\n"
     ]
    }
   ],
   "source": [
    "data_4[\"Age\"] = pd.Series.map(data_4[\"Age\"], float, na_action = \"ignore\")\n",
    "print(data_4[\"Age\"].describe())"
   ]
  },
  {
   "cell_type": "code",
   "execution_count": 75,
   "id": "0c37c386-87e9-4432-b150-58b029910a04",
   "metadata": {
    "tags": []
   },
   "outputs": [],
   "source": [
    "# We would set age into 3 groups, youth, adult, and elder based on its 1st and 3rd quantile\n",
    "def identAge(x):\n",
    "    x = float(x)\n",
    "    if x <= 21:\n",
    "        group = \"Youth\"\n",
    "    elif 21 < x <= 38:\n",
    "        group = \"Adult\"\n",
    "    else:\n",
    "        group = \"Elder\"\n",
    "    return group"
   ]
  },
  {
   "cell_type": "code",
   "execution_count": 76,
   "id": "d1c77a4b-b94b-4088-9d6f-624918674e76",
   "metadata": {},
   "outputs": [],
   "source": [
    "data_4[\"Age\"] = pd.Series.map(data_4[\"Age\"], identAge, na_action = \"ignore\")"
   ]
  },
  {
   "cell_type": "code",
   "execution_count": 77,
   "id": "1c3ca733-2b00-4185-9d85-5752912aec1f",
   "metadata": {},
   "outputs": [
    {
     "name": "stdout",
     "output_type": "stream",
     "text": [
      "count    891.000000\n",
      "mean      32.204208\n",
      "std       49.693429\n",
      "min        0.000000\n",
      "25%        7.910400\n",
      "50%       14.454200\n",
      "75%       31.000000\n",
      "max      512.329200\n",
      "Name: Fare, dtype: float64\n"
     ]
    }
   ],
   "source": [
    "data_4[\"Fare\"] = pd.Series.map(data_4[\"Fare\"], float, na_action = \"ignore\")\n",
    "print(data_4[\"Fare\"].describe())"
   ]
  },
  {
   "cell_type": "code",
   "execution_count": 78,
   "id": "8799e2fb-fe8a-4ac8-9719-db940a86ab10",
   "metadata": {},
   "outputs": [],
   "source": [
    "# To assign fare into 3 groups, we consider a fee lower than 8 would be low, from 8 to 20, would be medium\n",
    "# and higher than 20 would be high cost based on its quantile\n",
    "def idenFare(x):\n",
    "    x = float(x)\n",
    "    if x <= 8:\n",
    "        cost = \"low\"\n",
    "    elif 8 < x < 30:\n",
    "        cost = \"medium\"\n",
    "    else:\n",
    "        cost = \"high\"\n",
    "    return cost\n",
    "        "
   ]
  },
  {
   "cell_type": "code",
   "execution_count": 79,
   "id": "653ac3ea-c950-4397-ae33-ab2aecf8352f",
   "metadata": {},
   "outputs": [],
   "source": [
    "data_4[\"Fare\"] = pd.Series.map(data_4[\"Fare\"], idenFare, na_action = \"ignore\")"
   ]
  },
  {
   "cell_type": "markdown",
   "id": "1838cd0e-b44c-4450-9df2-50dda638678b",
   "metadata": {},
   "source": [
    "To see if there are many NA values inside the dataset, we would need to clean it"
   ]
  },
  {
   "cell_type": "code",
   "execution_count": 80,
   "id": "7b266140-dd9e-4b77-a951-7216f314f66a",
   "metadata": {},
   "outputs": [
    {
     "name": "stdout",
     "output_type": "stream",
     "text": [
      "Survived      0\n",
      "Pclass        0\n",
      "Sex           0\n",
      "Age         177\n",
      "SibSp         0\n",
      "Parch         0\n",
      "Fare          0\n",
      "Cabin       687\n",
      "Embarked      2\n",
      "dtype: int64\n",
      "891\n"
     ]
    }
   ],
   "source": [
    "# count the number of Nas in each column\n",
    "print(data_4.isnull().sum(axis = 0))\n",
    "print(len(data_4)) # number of samples "
   ]
  },
  {
   "cell_type": "markdown",
   "id": "04a94dc3-f2ce-4470-98fb-145abe3c151c",
   "metadata": {},
   "source": [
    "By looking at the number of NAs in each variable, we found that more than half of the carbin data are NAs. Since we only have 891 rows of the data, if we remove all the rows containing NAs, then we would not have many rows left. Thus, it may be more reasonable to remove the Cabin column first, especially when Pclass can be a possible indicator of the region of the cabin. "
   ]
  },
  {
   "cell_type": "code",
   "execution_count": 81,
   "id": "731a30f0-fd4b-428c-8e50-a9b04ca2808d",
   "metadata": {},
   "outputs": [],
   "source": [
    "# Drop the cabin column \n",
    "data_4 = data_4.drop(columns=\"Cabin\")\n"
   ]
  },
  {
   "cell_type": "code",
   "execution_count": 82,
   "id": "40dce510-1e7f-43e5-afcc-b1c71ea2b8c5",
   "metadata": {},
   "outputs": [
    {
     "name": "stdout",
     "output_type": "stream",
     "text": [
      "712\n"
     ]
    }
   ],
   "source": [
    "# Drop the NA rows in the dataset\n",
    "data_4  = data_4.dropna(how = \"any\")\n",
    "data_4 = data_4.reset_index(drop=True)\n",
    "print(len(data_4))"
   ]
  },
  {
   "cell_type": "code",
   "execution_count": 83,
   "id": "02a92a1e-37c1-44f0-9ac2-463b84588101",
   "metadata": {},
   "outputs": [
    {
     "name": "stdout",
     "output_type": "stream",
     "text": [
      "Survived    0\n",
      "Pclass      0\n",
      "Sex         0\n",
      "Age         0\n",
      "SibSp       0\n",
      "Parch       0\n",
      "Fare        0\n",
      "Embarked    0\n",
      "dtype: int64\n"
     ]
    }
   ],
   "source": [
    "# recheck the number of NAs \n",
    "print(data_4.isnull().sum(axis = 0))\n"
   ]
  },
  {
   "cell_type": "code",
   "execution_count": 84,
   "id": "0685c819-965c-4caf-ba41-c257f0e1cc78",
   "metadata": {},
   "outputs": [
    {
     "name": "stdout",
     "output_type": "stream",
     "text": [
      "Survived    object\n",
      "Pclass      object\n",
      "Sex         object\n",
      "Age         object\n",
      "SibSp       object\n",
      "Parch       object\n",
      "Fare        object\n",
      "Embarked    object\n",
      "dtype: object\n"
     ]
    }
   ],
   "source": [
    "print(data_4.dtypes) # make sure the type of variables are all object "
   ]
  },
  {
   "cell_type": "markdown",
   "id": "03a33429-ad26-4a96-9cbb-202b9c541c7f",
   "metadata": {},
   "source": [
    "Now, we are ready to fit model to our data. \n"
   ]
  },
  {
   "cell_type": "code",
   "execution_count": 58,
   "id": "04369ca4-6e6e-4dba-9bdd-cad4b520e216",
   "metadata": {},
   "outputs": [],
   "source": [
    "from chefboost import Chefboost as chef\n",
    "from sklearn.model_selection import KFold\n",
    "kcv = KFold(n_splits=10, random_state=10, shuffle=True)"
   ]
  },
  {
   "cell_type": "markdown",
   "id": "89294974-fa07-457e-8007-b990cd5e43d6",
   "metadata": {},
   "source": [
    "# We first fit and train C4.5 Decision Tree"
   ]
  },
  {
   "cell_type": "code",
   "execution_count": 86,
   "id": "04c0bfff-f773-461e-a1d1-0cf98166bb2b",
   "metadata": {},
   "outputs": [],
   "source": [
    "data_4 = data_4.rename(columns={'Survived':'Decision'})\n",
    "config = {\"algorithm\":\"C4.5\",\"enableParallelism\": True}"
   ]
  },
  {
   "cell_type": "code",
   "execution_count": 87,
   "id": "cf45c063-9039-4e3d-acce-316d5f711c87",
   "metadata": {},
   "outputs": [
    {
     "name": "stdout",
     "output_type": "stream",
     "text": [
      "#################################### Kfold is 1 ##############################################\n",
      "['Pclass', 'Sex', 'Age', 'SibSp', 'Parch', 'Fare', 'Embarked', 'Decision']\n",
      "[INFO]:  4 CPU cores will be allocated in parallel running\n",
      "C4.5  tree is going to be built...\n",
      "-------------------------\n",
      "finished in  19.185977458953857  seconds\n",
      "-------------------------\n",
      "Evaluate  train set\n",
      "-------------------------\n",
      "Accuracy:  87.34375 % on  640  instances\n",
      "Labels:  ['0' '1']\n",
      "Confusion matrix:  [[361, 58], [23, 198]]\n",
      "Precision:  86.1575 %, Recall:  94.0104 %, F1:  89.9128 %\n",
      "['Pclass', 'Sex', 'Age', 'SibSp', 'Parch', 'Fare', 'Embarked', 'Decision']\n",
      "-------------------------\n",
      "Evaluate  validation set\n",
      "-------------------------\n",
      "Accuracy:  83.33333333333333 % on  72  instances\n",
      "Labels:  ['0' '1']\n",
      "Confusion matrix:  [[36, 8], [4, 24]]\n",
      "Precision:  81.8182 %, Recall:  90.0 %, F1:  85.7143 %\n",
      "#################################### Kfold is 2 ##############################################\n",
      "['Pclass', 'Sex', 'Age', 'SibSp', 'Parch', 'Fare', 'Embarked', 'Decision']\n",
      "[INFO]:  4 CPU cores will be allocated in parallel running\n",
      "C4.5  tree is going to be built...\n"
     ]
    },
    {
     "name": "stderr",
     "output_type": "stream",
     "text": [
      "c:\\users\\henry\\appdata\\local\\programs\\python\\python38-32\\lib\\site-packages\\chefboost\\commons\\functions.py:17: SettingWithCopyWarning: \n",
      "A value is trying to be set on a copy of a slice from a DataFrame.\n",
      "Try using .loc[row_indexer,col_indexer] = value instead\n",
      "\n",
      "See the caveats in the documentation: https://pandas.pydata.org/pandas-docs/stable/user_guide/indexing.html#returning-a-view-versus-a-copy\n",
      "  df['Prediction'] = predictions\n"
     ]
    },
    {
     "name": "stdout",
     "output_type": "stream",
     "text": [
      "-------------------------\n",
      "finished in  11.0059494972229  seconds\n",
      "-------------------------\n",
      "Evaluate  train set\n",
      "-------------------------\n",
      "Accuracy:  88.125 % on  640  instances\n",
      "Labels:  ['0' '1']\n",
      "Confusion matrix:  [[360, 53], [23, 204]]\n",
      "Precision:  87.1671 %, Recall:  93.9948 %, F1:  90.4523 %\n",
      "['Pclass', 'Sex', 'Age', 'SibSp', 'Parch', 'Fare', 'Embarked', 'Decision']\n",
      "-------------------------\n",
      "Evaluate  validation set\n",
      "-------------------------\n",
      "Accuracy:  75.0 % on  72  instances\n",
      "Labels:  ['0' '1']\n",
      "Confusion matrix:  [[36, 13], [5, 18]]\n",
      "Precision:  73.4694 %, Recall:  87.8049 %, F1:  80.0 %\n",
      "#################################### Kfold is 3 ##############################################\n",
      "['Pclass', 'Sex', 'Age', 'SibSp', 'Parch', 'Fare', 'Embarked', 'Decision']\n",
      "[INFO]:  4 CPU cores will be allocated in parallel running\n",
      "C4.5  tree is going to be built...\n",
      "-------------------------\n",
      "finished in  10.802147388458252  seconds\n",
      "-------------------------\n",
      "Evaluate  train set\n",
      "-------------------------\n",
      "Accuracy:  87.20748829953199 % on  641  instances\n",
      "Labels:  ['0' '1']\n",
      "Confusion matrix:  [[351, 53], [29, 208]]\n",
      "Precision:  86.8812 %, Recall:  92.3684 %, F1:  89.5408 %\n",
      "['Pclass', 'Sex', 'Age', 'SibSp', 'Parch', 'Fare', 'Embarked', 'Decision']\n",
      "-------------------------\n",
      "Evaluate  validation set\n",
      "-------------------------\n",
      "Accuracy:  84.50704225352112 % on  71  instances\n",
      "Labels:  ['0' '1']\n",
      "Confusion matrix:  [[40, 7], [4, 20]]\n",
      "Precision:  85.1064 %, Recall:  90.9091 %, F1:  87.9121 %\n",
      "#################################### Kfold is 4 ##############################################\n",
      "['Pclass', 'Sex', 'Age', 'SibSp', 'Parch', 'Fare', 'Embarked', 'Decision']\n",
      "[INFO]:  4 CPU cores will be allocated in parallel running\n",
      "C4.5  tree is going to be built...\n",
      "-------------------------\n",
      "finished in  14.266997337341309  seconds\n",
      "-------------------------\n",
      "Evaluate  train set\n",
      "-------------------------\n",
      "Accuracy:  87.83151326053041 % on  641  instances\n",
      "Labels:  ['0' '1']\n",
      "Confusion matrix:  [[363, 57], [21, 200]]\n",
      "Precision:  86.4286 %, Recall:  94.5312 %, F1:  90.2985 %\n",
      "['Pclass', 'Sex', 'Age', 'SibSp', 'Parch', 'Fare', 'Embarked', 'Decision']\n",
      "-------------------------\n",
      "Evaluate  validation set\n",
      "-------------------------\n",
      "Accuracy:  73.2394366197183 % on  71  instances\n",
      "Labels:  ['1' '0']\n",
      "Confusion matrix:  [[20, 8], [11, 32]]\n",
      "Precision:  71.4286 %, Recall:  64.5161 %, F1:  67.7966 %\n",
      "#################################### Kfold is 5 ##############################################\n",
      "['Pclass', 'Sex', 'Age', 'SibSp', 'Parch', 'Fare', 'Embarked', 'Decision']\n",
      "[INFO]:  4 CPU cores will be allocated in parallel running\n",
      "C4.5  tree is going to be built...\n",
      "-------------------------\n",
      "finished in  10.2269868850708  seconds\n",
      "-------------------------\n",
      "Evaluate  train set\n",
      "-------------------------\n",
      "Accuracy:  88.76755070202807 % on  641  instances\n",
      "Labels:  ['0' '1']\n",
      "Confusion matrix:  [[360, 49], [23, 209]]\n",
      "Precision:  88.0196 %, Recall:  93.9948 %, F1:  90.9091 %\n",
      "['Pclass', 'Sex', 'Age', 'SibSp', 'Parch', 'Fare', 'Embarked', 'Decision']\n",
      "-------------------------\n",
      "Evaluate  validation set\n",
      "-------------------------\n",
      "Accuracy:  71.83098591549296 % on  71  instances\n",
      "Labels:  ['1' '0']\n",
      "Confusion matrix:  [[16, 6], [14, 35]]\n",
      "Precision:  72.7273 %, Recall:  53.3333 %, F1:  61.5384 %\n",
      "#################################### Kfold is 6 ##############################################\n",
      "['Pclass', 'Sex', 'Age', 'SibSp', 'Parch', 'Fare', 'Embarked', 'Decision']\n",
      "[INFO]:  4 CPU cores will be allocated in parallel running\n",
      "C4.5  tree is going to be built...\n",
      "-------------------------\n",
      "finished in  13.727159023284912  seconds\n",
      "-------------------------\n",
      "Evaluate  train set\n",
      "-------------------------\n",
      "Accuracy:  87.3634945397816 % on  641  instances\n",
      "Labels:  ['0' '1']\n",
      "Confusion matrix:  [[347, 54], [27, 213]]\n",
      "Precision:  86.5337 %, Recall:  92.7807 %, F1:  89.5484 %\n",
      "['Pclass', 'Sex', 'Age', 'SibSp', 'Parch', 'Fare', 'Embarked', 'Decision']\n",
      "-------------------------\n",
      "Evaluate  validation set\n",
      "-------------------------\n",
      "Accuracy:  84.50704225352112 % on  71  instances\n",
      "Labels:  ['1' '0']\n",
      "Confusion matrix:  [[17, 7], [4, 43]]\n",
      "Precision:  70.8333 %, Recall:  80.9524 %, F1:  75.5555 %\n",
      "#################################### Kfold is 7 ##############################################\n",
      "['Pclass', 'Sex', 'Age', 'SibSp', 'Parch', 'Fare', 'Embarked', 'Decision']\n",
      "[INFO]:  4 CPU cores will be allocated in parallel running\n",
      "C4.5  tree is going to be built...\n",
      "-------------------------\n",
      "finished in  9.735199928283691  seconds\n",
      "-------------------------\n",
      "Evaluate  train set\n",
      "-------------------------\n",
      "Accuracy:  87.3634945397816 % on  641  instances\n",
      "Labels:  ['0' '1']\n",
      "Confusion matrix:  [[360, 55], [26, 200]]\n",
      "Precision:  86.747 %, Recall:  93.2642 %, F1:  89.8876 %\n",
      "['Pclass', 'Sex', 'Age', 'SibSp', 'Parch', 'Fare', 'Embarked', 'Decision']\n",
      "-------------------------\n",
      "Evaluate  validation set\n",
      "-------------------------\n",
      "Accuracy:  80.28169014084507 % on  71  instances\n",
      "Labels:  ['0' '1']\n",
      "Confusion matrix:  [[32, 8], [6, 25]]\n",
      "Precision:  80.0 %, Recall:  84.2105 %, F1:  82.0513 %\n",
      "#################################### Kfold is 8 ##############################################\n",
      "['Pclass', 'Sex', 'Age', 'SibSp', 'Parch', 'Fare', 'Embarked', 'Decision']\n",
      "[INFO]:  4 CPU cores will be allocated in parallel running\n",
      "C4.5  tree is going to be built...\n",
      "-------------------------\n",
      "finished in  11.09424614906311  seconds\n",
      "-------------------------\n",
      "Evaluate  train set\n",
      "-------------------------\n",
      "Accuracy:  87.6755070202808 % on  641  instances\n",
      "Labels:  ['1' '0']\n",
      "Confusion matrix:  [[203, 22], [57, 359]]\n",
      "Precision:  90.2222 %, Recall:  78.0769 %, F1:  83.7113 %\n",
      "['Pclass', 'Sex', 'Age', 'SibSp', 'Parch', 'Fare', 'Embarked', 'Decision']\n",
      "-------------------------\n",
      "Evaluate  validation set\n",
      "-------------------------\n",
      "Accuracy:  77.46478873239437 % on  71  instances\n",
      "Labels:  ['0' '1']\n",
      "Confusion matrix:  [[37, 10], [6, 18]]\n",
      "Precision:  78.7234 %, Recall:  86.0465 %, F1:  82.2222 %\n",
      "#################################### Kfold is 9 ##############################################\n",
      "['Pclass', 'Sex', 'Age', 'SibSp', 'Parch', 'Fare', 'Embarked', 'Decision']\n",
      "[INFO]:  4 CPU cores will be allocated in parallel running\n",
      "C4.5  tree is going to be built...\n",
      "-------------------------\n",
      "finished in  18.619664669036865  seconds\n",
      "-------------------------\n",
      "Evaluate  train set\n",
      "-------------------------\n",
      "Accuracy:  87.20748829953199 % on  641  instances\n",
      "Labels:  ['0' '1']\n",
      "Confusion matrix:  [[355, 56], [26, 204]]\n",
      "Precision:  86.3747 %, Recall:  93.1759 %, F1:  89.6465 %\n",
      "['Pclass', 'Sex', 'Age', 'SibSp', 'Parch', 'Fare', 'Embarked', 'Decision']\n",
      "-------------------------\n",
      "Evaluate  validation set\n",
      "-------------------------\n",
      "Accuracy:  83.09859154929578 % on  71  instances\n",
      "Labels:  ['1' '0']\n",
      "Confusion matrix:  [[22, 6], [6, 37]]\n",
      "Precision:  78.5714 %, Recall:  78.5714 %, F1:  78.5714 %\n",
      "#################################### Kfold is 10 ##############################################\n",
      "['Pclass', 'Sex', 'Age', 'SibSp', 'Parch', 'Fare', 'Embarked', 'Decision']\n",
      "[INFO]:  4 CPU cores will be allocated in parallel running\n",
      "C4.5  tree is going to be built...\n",
      "-------------------------\n",
      "finished in  14.861133575439453  seconds\n",
      "-------------------------\n",
      "Evaluate  train set\n",
      "-------------------------\n",
      "Accuracy:  88.29953198127924 % on  641  instances\n",
      "Labels:  ['0' '1']\n",
      "Confusion matrix:  [[354, 49], [26, 212]]\n",
      "Precision:  87.8412 %, Recall:  93.1579 %, F1:  90.4215 %\n",
      "['Pclass', 'Sex', 'Age', 'SibSp', 'Parch', 'Fare', 'Embarked', 'Decision']\n",
      "-------------------------\n",
      "Evaluate  validation set\n",
      "-------------------------\n",
      "Accuracy:  71.83098591549296 % on  71  instances\n",
      "Labels:  ['0' '1']\n",
      "Confusion matrix:  [[36, 12], [8, 15]]\n",
      "Precision:  75.0 %, Recall:  81.8182 %, F1:  78.2609 %\n"
     ]
    }
   ],
   "source": [
    "i = 1 \n",
    "for train_index, test_index in kcv.split(data_4):\n",
    "    print(f\"#################################### Kfold is {i} ##############################################\")\n",
    "    i += 1\n",
    "    X_train, X_test = data_4.iloc[train_index], data_4.iloc[test_index]\n",
    "    model = chef.fit(X_train, validation_df = X_test, config = config)\n",
    "    \n",
    "    \n",
    "\n",
    "    "
   ]
  },
  {
   "cell_type": "markdown",
   "id": "4a5a3830",
   "metadata": {},
   "source": [
    "# C4.5 Result \n"
   ]
  },
  {
   "cell_type": "markdown",
   "id": "8c656e32",
   "metadata": {},
   "source": [
    "From the above result, we see that the 3rd and 6th iteration has roughly similar and highest validation accuracy which is around 84.5%\n",
    "\n",
    "For iteration 3:\n",
    "\n",
    "It has precision 85%, Recall: 90.0%, and F-1 score 87.9%\n",
    "\n",
    "For iteration 6:\n",
    "\n",
    "It has precision 70%, Recall: 80.9% and F-1 score 75.5% "
   ]
  },
  {
   "cell_type": "markdown",
   "id": "f8d3d4e3",
   "metadata": {},
   "source": [
    "# CART Decision Tree"
   ]
  },
  {
   "cell_type": "code",
   "execution_count": 65,
   "id": "4420287e",
   "metadata": {},
   "outputs": [
    {
     "name": "stdout",
     "output_type": "stream",
     "text": [
      "#################################### Kfold is 1 ##############################################\n",
      "['Pclass', 'Sex', 'Age', 'SibSp', 'Parch', 'Fare', 'Embarked', 'Decision']\n",
      "[INFO]:  4 CPU cores will be allocated in parallel running\n",
      "CART  tree is going to be built...\n",
      "-------------------------\n",
      "finished in  23.415143489837646  seconds\n",
      "-------------------------\n",
      "Evaluate  train set\n",
      "-------------------------\n",
      "Accuracy:  87.34375 % on  640  instances\n",
      "Labels:  ['0' '1']\n",
      "Confusion matrix:  [[361, 58], [23, 198]]\n",
      "Precision:  86.1575 %, Recall:  94.0104 %, F1:  89.9128 %\n",
      "['Pclass', 'Sex', 'Age', 'SibSp', 'Parch', 'Fare', 'Embarked', 'Decision']\n",
      "-------------------------\n",
      "Evaluate  validation set\n",
      "-------------------------\n",
      "Accuracy:  81.94444444444444 % on  72  instances\n",
      "Labels:  ['0' '1']\n",
      "Confusion matrix:  [[36, 9], [4, 23]]\n",
      "Precision:  80.0 %, Recall:  90.0 %, F1:  84.7059 %\n",
      "#################################### Kfold is 2 ##############################################\n",
      "['Pclass', 'Sex', 'Age', 'SibSp', 'Parch', 'Fare', 'Embarked', 'Decision']\n",
      "[INFO]:  4 CPU cores will be allocated in parallel running\n",
      "CART  tree is going to be built...\n",
      "-------------------------\n",
      "finished in  15.843225240707397  seconds\n",
      "-------------------------\n",
      "Evaluate  train set\n",
      "-------------------------\n",
      "Accuracy:  88.125 % on  640  instances\n",
      "Labels:  ['0' '1']\n",
      "Confusion matrix:  [[360, 53], [23, 204]]\n",
      "Precision:  87.1671 %, Recall:  93.9948 %, F1:  90.4523 %\n",
      "['Pclass', 'Sex', 'Age', 'SibSp', 'Parch', 'Fare', 'Embarked', 'Decision']\n",
      "-------------------------\n",
      "Evaluate  validation set\n",
      "-------------------------\n",
      "Accuracy:  73.61111111111111 % on  72  instances\n",
      "Labels:  ['0' '1']\n",
      "Confusion matrix:  [[35, 13], [6, 18]]\n",
      "Precision:  72.9167 %, Recall:  85.3659 %, F1:  78.6517 %\n",
      "#################################### Kfold is 3 ##############################################\n",
      "['Pclass', 'Sex', 'Age', 'SibSp', 'Parch', 'Fare', 'Embarked', 'Decision']\n",
      "[INFO]:  4 CPU cores will be allocated in parallel running\n",
      "CART  tree is going to be built...\n",
      "-------------------------\n",
      "finished in  22.73198890686035  seconds\n",
      "-------------------------\n",
      "Evaluate  train set\n",
      "-------------------------\n",
      "Accuracy:  87.20748829953199 % on  641  instances\n",
      "Labels:  ['0' '1']\n",
      "Confusion matrix:  [[351, 53], [29, 208]]\n",
      "Precision:  86.8812 %, Recall:  92.3684 %, F1:  89.5408 %\n",
      "['Pclass', 'Sex', 'Age', 'SibSp', 'Parch', 'Fare', 'Embarked', 'Decision']\n",
      "-------------------------\n",
      "Evaluate  validation set\n",
      "-------------------------\n",
      "Accuracy:  84.50704225352112 % on  71  instances\n",
      "Labels:  ['0' '1']\n",
      "Confusion matrix:  [[40, 7], [4, 20]]\n",
      "Precision:  85.1064 %, Recall:  90.9091 %, F1:  87.9121 %\n",
      "#################################### Kfold is 4 ##############################################\n",
      "['Pclass', 'Sex', 'Age', 'SibSp', 'Parch', 'Fare', 'Embarked', 'Decision']\n",
      "[INFO]:  4 CPU cores will be allocated in parallel running\n",
      "CART  tree is going to be built...\n",
      "-------------------------\n",
      "finished in  15.659865140914917  seconds\n",
      "-------------------------\n",
      "Evaluate  train set\n",
      "-------------------------\n",
      "Accuracy:  87.83151326053041 % on  641  instances\n",
      "Labels:  ['0' '1']\n",
      "Confusion matrix:  [[363, 57], [21, 200]]\n",
      "Precision:  86.4286 %, Recall:  94.5312 %, F1:  90.2985 %\n",
      "['Pclass', 'Sex', 'Age', 'SibSp', 'Parch', 'Fare', 'Embarked', 'Decision']\n",
      "-------------------------\n",
      "Evaluate  validation set\n",
      "-------------------------\n",
      "Accuracy:  74.64788732394366 % on  71  instances\n",
      "Labels:  ['1' '0']\n",
      "Confusion matrix:  [[20, 7], [11, 33]]\n",
      "Precision:  74.0741 %, Recall:  64.5161 %, F1:  68.9655 %\n",
      "#################################### Kfold is 5 ##############################################\n",
      "['Pclass', 'Sex', 'Age', 'SibSp', 'Parch', 'Fare', 'Embarked', 'Decision']\n",
      "[INFO]:  4 CPU cores will be allocated in parallel running\n",
      "CART  tree is going to be built...\n",
      "-------------------------\n",
      "finished in  14.736841917037964  seconds\n",
      "-------------------------\n",
      "Evaluate  train set\n",
      "-------------------------\n",
      "Accuracy:  88.76755070202807 % on  641  instances\n",
      "Labels:  ['0' '1']\n",
      "Confusion matrix:  [[360, 49], [23, 209]]\n",
      "Precision:  88.0196 %, Recall:  93.9948 %, F1:  90.9091 %\n",
      "['Pclass', 'Sex', 'Age', 'SibSp', 'Parch', 'Fare', 'Embarked', 'Decision']\n",
      "-------------------------\n",
      "Evaluate  validation set\n",
      "-------------------------\n",
      "Accuracy:  71.83098591549296 % on  71  instances\n",
      "Labels:  ['1' '0']\n",
      "Confusion matrix:  [[16, 6], [14, 35]]\n",
      "Precision:  72.7273 %, Recall:  53.3333 %, F1:  61.5384 %\n",
      "#################################### Kfold is 6 ##############################################\n",
      "['Pclass', 'Sex', 'Age', 'SibSp', 'Parch', 'Fare', 'Embarked', 'Decision']\n",
      "[INFO]:  4 CPU cores will be allocated in parallel running\n",
      "CART  tree is going to be built...\n",
      "-------------------------\n",
      "finished in  17.524579286575317  seconds\n",
      "-------------------------\n",
      "Evaluate  train set\n",
      "-------------------------\n",
      "Accuracy:  87.3634945397816 % on  641  instances\n",
      "Labels:  ['0' '1']\n",
      "Confusion matrix:  [[347, 54], [27, 213]]\n",
      "Precision:  86.5337 %, Recall:  92.7807 %, F1:  89.5484 %\n",
      "['Pclass', 'Sex', 'Age', 'SibSp', 'Parch', 'Fare', 'Embarked', 'Decision']\n",
      "-------------------------\n",
      "Evaluate  validation set\n",
      "-------------------------\n",
      "Accuracy:  84.50704225352112 % on  71  instances\n",
      "Labels:  ['1' '0']\n",
      "Confusion matrix:  [[17, 7], [4, 43]]\n",
      "Precision:  70.8333 %, Recall:  80.9524 %, F1:  75.5555 %\n",
      "#################################### Kfold is 7 ##############################################\n",
      "['Pclass', 'Sex', 'Age', 'SibSp', 'Parch', 'Fare', 'Embarked', 'Decision']\n",
      "[INFO]:  4 CPU cores will be allocated in parallel running\n",
      "CART  tree is going to be built...\n",
      "-------------------------\n",
      "finished in  21.904646158218384  seconds\n",
      "-------------------------\n",
      "Evaluate  train set\n",
      "-------------------------\n",
      "Accuracy:  87.3634945397816 % on  641  instances\n",
      "Labels:  ['0' '1']\n",
      "Confusion matrix:  [[360, 55], [26, 200]]\n",
      "Precision:  86.747 %, Recall:  93.2642 %, F1:  89.8876 %\n",
      "['Pclass', 'Sex', 'Age', 'SibSp', 'Parch', 'Fare', 'Embarked', 'Decision']\n",
      "-------------------------\n",
      "Evaluate  validation set\n",
      "-------------------------\n",
      "Accuracy:  78.87323943661971 % on  71  instances\n",
      "Labels:  ['0' '1']\n",
      "Confusion matrix:  [[32, 9], [6, 24]]\n",
      "Precision:  78.0488 %, Recall:  84.2105 %, F1:  81.0127 %\n",
      "#################################### Kfold is 8 ##############################################\n",
      "['Pclass', 'Sex', 'Age', 'SibSp', 'Parch', 'Fare', 'Embarked', 'Decision']\n",
      "[INFO]:  4 CPU cores will be allocated in parallel running\n",
      "CART  tree is going to be built...\n",
      "-------------------------\n",
      "finished in  20.567697525024414  seconds\n",
      "-------------------------\n",
      "Evaluate  train set\n",
      "-------------------------\n",
      "Accuracy:  87.6755070202808 % on  641  instances\n",
      "Labels:  ['1' '0']\n",
      "Confusion matrix:  [[203, 22], [57, 359]]\n",
      "Precision:  90.2222 %, Recall:  78.0769 %, F1:  83.7113 %\n",
      "['Pclass', 'Sex', 'Age', 'SibSp', 'Parch', 'Fare', 'Embarked', 'Decision']\n",
      "-------------------------\n",
      "Evaluate  validation set\n",
      "-------------------------\n",
      "Accuracy:  77.46478873239437 % on  71  instances\n",
      "Labels:  ['0' '1']\n",
      "Confusion matrix:  [[37, 10], [6, 18]]\n",
      "Precision:  78.7234 %, Recall:  86.0465 %, F1:  82.2222 %\n",
      "#################################### Kfold is 9 ##############################################\n",
      "['Pclass', 'Sex', 'Age', 'SibSp', 'Parch', 'Fare', 'Embarked', 'Decision']\n",
      "[INFO]:  4 CPU cores will be allocated in parallel running\n",
      "CART  tree is going to be built...\n",
      "-------------------------\n",
      "finished in  20.682926654815674  seconds\n",
      "-------------------------\n",
      "Evaluate  train set\n",
      "-------------------------\n",
      "Accuracy:  87.20748829953199 % on  641  instances\n",
      "Labels:  ['0' '1']\n",
      "Confusion matrix:  [[355, 56], [26, 204]]\n",
      "Precision:  86.3747 %, Recall:  93.1759 %, F1:  89.6465 %\n",
      "['Pclass', 'Sex', 'Age', 'SibSp', 'Parch', 'Fare', 'Embarked', 'Decision']\n",
      "-------------------------\n",
      "Evaluate  validation set\n",
      "-------------------------\n",
      "Accuracy:  83.09859154929578 % on  71  instances\n",
      "Labels:  ['1' '0']\n",
      "Confusion matrix:  [[22, 6], [6, 37]]\n",
      "Precision:  78.5714 %, Recall:  78.5714 %, F1:  78.5714 %\n",
      "#################################### Kfold is 10 ##############################################\n",
      "['Pclass', 'Sex', 'Age', 'SibSp', 'Parch', 'Fare', 'Embarked', 'Decision']\n",
      "[INFO]:  4 CPU cores will be allocated in parallel running\n",
      "CART  tree is going to be built...\n"
     ]
    },
    {
     "name": "stdout",
     "output_type": "stream",
     "text": [
      "-------------------------\n",
      "finished in  12.983156442642212  seconds\n",
      "-------------------------\n",
      "Evaluate  train set\n",
      "-------------------------\n",
      "Accuracy:  88.29953198127924 % on  641  instances\n",
      "Labels:  ['0' '1']\n",
      "Confusion matrix:  [[354, 49], [26, 212]]\n",
      "Precision:  87.8412 %, Recall:  93.1579 %, F1:  90.4215 %\n",
      "['Pclass', 'Sex', 'Age', 'SibSp', 'Parch', 'Fare', 'Embarked', 'Decision']\n",
      "-------------------------\n",
      "Evaluate  validation set\n",
      "-------------------------\n",
      "Accuracy:  71.83098591549296 % on  71  instances\n",
      "Labels:  ['0' '1']\n",
      "Confusion matrix:  [[36, 12], [8, 15]]\n",
      "Precision:  75.0 %, Recall:  81.8182 %, F1:  78.2609 %\n"
     ]
    }
   ],
   "source": [
    "config = {\"algorithm\":\"CART\",\"enableParallelism\": True}\n",
    "i = 1 \n",
    "for train_index, test_index in kcv.split(data_4):\n",
    "    print(f\"#################################### Kfold is {i} ##############################################\")\n",
    "    i += 1\n",
    "    X_train, X_test = data_4.iloc[train_index], data_4.iloc[test_index]\n",
    "    model = chef.fit(X_train, validation_df = X_test, config = config)"
   ]
  },
  {
   "cell_type": "markdown",
   "id": "4e80af87",
   "metadata": {},
   "source": [
    "# Result for CART\n",
    "\n",
    "Based on the result shown above, \n",
    "\n",
    "The 3rd and 6th iteration has, again, similar and highest prediction accuracy. \n",
    "\n",
    "For 3rd iteration:\n",
    "Precision is 85.1%, Recall: 90.9%, and F-1 score: 87.9% \n",
    "\n",
    "For th iteration:\n",
    "Precision is 70.8%, Recall: 80.9%, and F-1 score: 75.5% "
   ]
  },
  {
   "cell_type": "markdown",
   "id": "8917c391",
   "metadata": {},
   "source": [
    "# Summary \n",
    "\n",
    "By comparison of Precision, Recall, and F-1 score, the third iteration in the two models both returns a better result. Therefore, we would choose iteration 3 instead of the iteration 6. \n",
    "Since both C4.5 and CART returns a very similar result, they may built up a similar decision tree based on the data. Thus, I am indifferent to pick C4.5 or CART. "
   ]
  }
 ],
 "metadata": {
  "kernelspec": {
   "display_name": "Python 3 (ipykernel)",
   "language": "python",
   "name": "python3"
  },
  "language_info": {
   "codemirror_mode": {
    "name": "ipython",
    "version": 3
   },
   "file_extension": ".py",
   "mimetype": "text/x-python",
   "name": "python",
   "nbconvert_exporter": "python",
   "pygments_lexer": "ipython3",
   "version": "3.8.4"
  }
 },
 "nbformat": 4,
 "nbformat_minor": 5
}
